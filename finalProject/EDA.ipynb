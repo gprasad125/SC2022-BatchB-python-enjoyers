{
 "cells": [
  {
   "cell_type": "code",
   "execution_count": 0,
   "metadata": {
    "collapsed": false
   },
   "outputs": [
   ],
   "source": [
   ]
  }
 ],
 "metadata": {
  "kernelspec": {
   "display_name": "Python (ds_env)",
   "language": "python",
   "metadata": {
    "debugger": true
   },
   "name": "ds_env",
   "resource_dir": "/projects/183af3d5-8548-4a20-9a82-38842b87480b/.local/share/jupyter/kernels/ds_env"
  }
 },
 "nbformat": 4,
 "nbformat_minor": 4
}